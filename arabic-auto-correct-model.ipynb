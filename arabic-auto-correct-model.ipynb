{
 "cells": [
  {
   "cell_type": "code",
   "execution_count": 3,
   "metadata": {
    "_cell_guid": "b1076dfc-b9ad-4769-8c92-a6c4dae69d19",
    "_uuid": "8f2839f25d086af736a60e9eeb907d3b93b6e0e5",
    "execution": {
     "iopub.execute_input": "2025-05-13T05:25:55.875080Z",
     "iopub.status.busy": "2025-05-13T05:25:55.874888Z",
     "iopub.status.idle": "2025-05-13T05:26:24.805451Z",
     "shell.execute_reply": "2025-05-13T05:26:24.804815Z",
     "shell.execute_reply.started": "2025-05-13T05:25:55.875064Z"
    },
    "trusted": true
   },
   "outputs": [
    {
     "name": "stderr",
     "output_type": "stream",
     "text": [
      "[nltk_data] Downloading package punkt to\n",
      "[nltk_data]     C:\\Users\\Retr0\\AppData\\Roaming\\nltk_data...\n",
      "[nltk_data]   Package punkt is already up-to-date!\n",
      "[nltk_data] Downloading package stopwords to\n",
      "[nltk_data]     C:\\Users\\Retr0\\AppData\\Roaming\\nltk_data...\n",
      "[nltk_data]   Package stopwords is already up-to-date!\n"
     ]
    }
   ],
   "source": [
    "import os\n",
    "os.environ['TF_CPP_MIN_LOG_LEVEL'] = '3'  # 0 = all logs, 1 = filter INFO, 2 = filter WARNING, 3 = filter ERROR\n",
    "import numpy as np # linear algebra\n",
    "import pandas as pd \n",
    "import nltk\n",
    "nltk.download('punkt')\n",
    "from nltk import word_tokenize\n",
    "nltk.download('stopwords')\n",
    "import re\n",
    "import string \n",
    "import emoji\n",
    "import random\n",
    "import arabic_reshaper\n",
    "from bidi.algorithm import get_display\n",
    "import tensorflow as tf\n",
    "from tensorflow.keras.layers import Input, Embedding, LSTM, Dense\n",
    "from tensorflow.keras.models import Model\n",
    "from tensorflow.keras.optimizers import Adam\n",
    "from sklearn.model_selection import train_test_split\n",
    "from tensorflow.keras.preprocessing.sequence import pad_sequences\n",
    "from tensorflow.keras.preprocessing.text import Tokenizer\n",
    "from transformers import AutoTokenizer\n",
    "\n",
    "# Ignore Warnings\n",
    "import warnings\n",
    "warnings.filterwarnings(\"ignore\")\n",
    "\n",
    "# This part is commented because currently I'm training locally\n",
    "\n",
    "# import os\n",
    "# for dirname, _, filenames in os.walk('/kaggle/input'):\n",
    "#     for filename in filenames:\n",
    "#         print(os.path.join(dirname, filename))"
   ]
  },
  {
   "cell_type": "code",
   "execution_count": 5,
   "metadata": {
    "execution": {
     "iopub.execute_input": "2025-05-13T05:26:32.072858Z",
     "iopub.status.busy": "2025-05-13T05:26:32.072160Z",
     "iopub.status.idle": "2025-05-13T05:26:32.616152Z",
     "shell.execute_reply": "2025-05-13T05:26:32.615507Z",
     "shell.execute_reply.started": "2025-05-13T05:26:32.072817Z"
    },
    "trusted": true
   },
   "outputs": [],
   "source": [
    "sample_path = './arabic_dataset/'\n",
    "df_train =pd.read_csv(sample_path + 'train.csv')"
   ]
  },
  {
   "cell_type": "code",
   "execution_count": 6,
   "metadata": {
    "execution": {
     "iopub.execute_input": "2025-05-13T05:26:35.626930Z",
     "iopub.status.busy": "2025-05-13T05:26:35.626621Z",
     "iopub.status.idle": "2025-05-13T05:26:35.647314Z",
     "shell.execute_reply": "2025-05-13T05:26:35.646634Z",
     "shell.execute_reply.started": "2025-05-13T05:26:35.626909Z"
    },
    "trusted": true
   },
   "outputs": [
    {
     "data": {
      "text/html": [
       "<div>\n",
       "<style scoped>\n",
       "    .dataframe tbody tr th:only-of-type {\n",
       "        vertical-align: middle;\n",
       "    }\n",
       "\n",
       "    .dataframe tbody tr th {\n",
       "        vertical-align: top;\n",
       "    }\n",
       "\n",
       "    .dataframe thead th {\n",
       "        text-align: right;\n",
       "    }\n",
       "</style>\n",
       "<table border=\"1\" class=\"dataframe\">\n",
       "  <thead>\n",
       "    <tr style=\"text-align: right;\">\n",
       "      <th></th>\n",
       "      <th>correct</th>\n",
       "      <th>incorrect</th>\n",
       "    </tr>\n",
       "  </thead>\n",
       "  <tbody>\n",
       "    <tr>\n",
       "      <th>0</th>\n",
       "      <td>سبحان الله ، الحكام العرب سيموت علي الكرسي ليظ...</td>\n",
       "      <td>سبحان الله الحكام العرب سيموت علي الكرسي ليضهر...</td>\n",
       "    </tr>\n",
       "    <tr>\n",
       "      <th>1</th>\n",
       "      <td>النصر ات لا محال ان شاء الله . من يءمن بالله و...</td>\n",
       "      <td>النصر ات لا محال انشاء الله من يءمن بالله والي...</td>\n",
       "    </tr>\n",
       "    <tr>\n",
       "      <th>2</th>\n",
       "      <td>الي كل شخص يعتقد ان بشار الاسد سوف يخرج من سور...</td>\n",
       "      <td>الي كل شخص يعتقد ان بشار الاسد سوف يخرج من سور...</td>\n",
       "    </tr>\n",
       "    <tr>\n",
       "      <th>3</th>\n",
       "      <td>الاسد وعصابته - لحد الان - غير مستوعبين انه رح...</td>\n",
       "      <td>الاسد وعصابته لحد الان غير مستوعبين ان و رح ين...</td>\n",
       "    </tr>\n",
       "    <tr>\n",
       "      <th>4</th>\n",
       "      <td>النظام الاسدي تجاوز حتي ما فعله معمر القذافي ف...</td>\n",
       "      <td>النظام الاسدي تجاوز حتي ما فعله معمر القذافي ف...</td>\n",
       "    </tr>\n",
       "  </tbody>\n",
       "</table>\n",
       "</div>"
      ],
      "text/plain": [
       "                                             correct  \\\n",
       "0  سبحان الله ، الحكام العرب سيموت علي الكرسي ليظ...   \n",
       "1  النصر ات لا محال ان شاء الله . من يءمن بالله و...   \n",
       "2  الي كل شخص يعتقد ان بشار الاسد سوف يخرج من سور...   \n",
       "3  الاسد وعصابته - لحد الان - غير مستوعبين انه رح...   \n",
       "4  النظام الاسدي تجاوز حتي ما فعله معمر القذافي ف...   \n",
       "\n",
       "                                           incorrect  \n",
       "0  سبحان الله الحكام العرب سيموت علي الكرسي ليضهر...  \n",
       "1  النصر ات لا محال انشاء الله من يءمن بالله والي...  \n",
       "2  الي كل شخص يعتقد ان بشار الاسد سوف يخرج من سور...  \n",
       "3  الاسد وعصابته لحد الان غير مستوعبين ان و رح ين...  \n",
       "4  النظام الاسدي تجاوز حتي ما فعله معمر القذافي ف...  "
      ]
     },
     "execution_count": 6,
     "metadata": {},
     "output_type": "execute_result"
    }
   ],
   "source": [
    "df_train.head()"
   ]
  },
  {
   "cell_type": "code",
   "execution_count": 7,
   "metadata": {
    "execution": {
     "iopub.execute_input": "2025-05-13T05:26:39.730601Z",
     "iopub.status.busy": "2025-05-13T05:26:39.730077Z",
     "iopub.status.idle": "2025-05-13T05:26:39.735432Z",
     "shell.execute_reply": "2025-05-13T05:26:39.734666Z",
     "shell.execute_reply.started": "2025-05-13T05:26:39.730577Z"
    },
    "trusted": true
   },
   "outputs": [
    {
     "data": {
      "text/plain": [
       "(18350, 2)"
      ]
     },
     "execution_count": 7,
     "metadata": {},
     "output_type": "execute_result"
    }
   ],
   "source": [
    "df_train.shape"
   ]
  },
  {
   "cell_type": "code",
   "execution_count": 9,
   "metadata": {
    "execution": {
     "iopub.execute_input": "2025-05-13T05:26:41.001660Z",
     "iopub.status.busy": "2025-05-13T05:26:41.001079Z",
     "iopub.status.idle": "2025-05-13T05:26:41.083688Z",
     "shell.execute_reply": "2025-05-13T05:26:41.083158Z",
     "shell.execute_reply.started": "2025-05-13T05:26:41.001637Z"
    },
    "trusted": true
   },
   "outputs": [],
   "source": [
    "df_valid =pd.read_csv(sample_path + \"valid.csv\")"
   ]
  },
  {
   "cell_type": "code",
   "execution_count": 10,
   "metadata": {
    "execution": {
     "iopub.execute_input": "2025-05-13T05:26:42.398407Z",
     "iopub.status.busy": "2025-05-13T05:26:42.398138Z",
     "iopub.status.idle": "2025-05-13T05:26:42.406040Z",
     "shell.execute_reply": "2025-05-13T05:26:42.405421Z",
     "shell.execute_reply.started": "2025-05-13T05:26:42.398386Z"
    },
    "trusted": true
   },
   "outputs": [
    {
     "data": {
      "text/html": [
       "<div>\n",
       "<style scoped>\n",
       "    .dataframe tbody tr th:only-of-type {\n",
       "        vertical-align: middle;\n",
       "    }\n",
       "\n",
       "    .dataframe tbody tr th {\n",
       "        vertical-align: top;\n",
       "    }\n",
       "\n",
       "    .dataframe thead th {\n",
       "        text-align: right;\n",
       "    }\n",
       "</style>\n",
       "<table border=\"1\" class=\"dataframe\">\n",
       "  <thead>\n",
       "    <tr style=\"text-align: right;\">\n",
       "      <th></th>\n",
       "      <th>correct</th>\n",
       "      <th>incorrect</th>\n",
       "    </tr>\n",
       "  </thead>\n",
       "  <tbody>\n",
       "    <tr>\n",
       "      <th>0</th>\n",
       "      <td>لا يعتقد البعض بان ضغوطات الغرب علي سوريا هي ش...</td>\n",
       "      <td>لا يعتقد البعض بان ضغوطات الغرب علي سوريا هي ش...</td>\n",
       "    </tr>\n",
       "    <tr>\n",
       "      <th>1</th>\n",
       "      <td>انا متاكد ان التعليمات تاتي من الغرب لزعماء ال...</td>\n",
       "      <td>انا متاكد ان التعليمات تاتي من الغرب لزعماء ال...</td>\n",
       "    </tr>\n",
       "    <tr>\n",
       "      <th>2</th>\n",
       "      <td>اناشد الاخوه في مصر ارض الكنانه ان يتقوا الله ...</td>\n",
       "      <td>اناشد الاخوه في مصر ارض الكنانه ان يتقوا الله ...</td>\n",
       "    </tr>\n",
       "    <tr>\n",
       "      <th>3</th>\n",
       "      <td>علي من ميلانو يقول : ان سوريا بغالبيتها التي ت...</td>\n",
       "      <td>علي من ميلانوا يقول ان سوريا بغالبيته التي تبل...</td>\n",
       "    </tr>\n",
       "    <tr>\n",
       "      <th>4</th>\n",
       "      <td>قسما بالله ، انا اعرف اهل حمص ، اليوم شيعنا خي...</td>\n",
       "      <td>قسما بالله انا اعرف اهل حمص اليوم شيعنا خيره ا...</td>\n",
       "    </tr>\n",
       "  </tbody>\n",
       "</table>\n",
       "</div>"
      ],
      "text/plain": [
       "                                             correct  \\\n",
       "0  لا يعتقد البعض بان ضغوطات الغرب علي سوريا هي ش...   \n",
       "1  انا متاكد ان التعليمات تاتي من الغرب لزعماء ال...   \n",
       "2  اناشد الاخوه في مصر ارض الكنانه ان يتقوا الله ...   \n",
       "3  علي من ميلانو يقول : ان سوريا بغالبيتها التي ت...   \n",
       "4  قسما بالله ، انا اعرف اهل حمص ، اليوم شيعنا خي...   \n",
       "\n",
       "                                           incorrect  \n",
       "0  لا يعتقد البعض بان ضغوطات الغرب علي سوريا هي ش...  \n",
       "1  انا متاكد ان التعليمات تاتي من الغرب لزعماء ال...  \n",
       "2  اناشد الاخوه في مصر ارض الكنانه ان يتقوا الله ...  \n",
       "3  علي من ميلانوا يقول ان سوريا بغالبيته التي تبل...  \n",
       "4  قسما بالله انا اعرف اهل حمص اليوم شيعنا خيره ا...  "
      ]
     },
     "execution_count": 10,
     "metadata": {},
     "output_type": "execute_result"
    }
   ],
   "source": [
    "df_valid.head()"
   ]
  },
  {
   "cell_type": "code",
   "execution_count": 11,
   "metadata": {
    "execution": {
     "iopub.execute_input": "2025-05-13T05:26:44.887541Z",
     "iopub.status.busy": "2025-05-13T05:26:44.886978Z",
     "iopub.status.idle": "2025-05-13T05:26:44.891956Z",
     "shell.execute_reply": "2025-05-13T05:26:44.891265Z",
     "shell.execute_reply.started": "2025-05-13T05:26:44.887520Z"
    },
    "trusted": true
   },
   "outputs": [
    {
     "data": {
      "text/plain": [
       "(2293, 2)"
      ]
     },
     "execution_count": 11,
     "metadata": {},
     "output_type": "execute_result"
    }
   ],
   "source": [
    "df_valid.shape"
   ]
  },
  {
   "cell_type": "code",
   "execution_count": 12,
   "metadata": {
    "execution": {
     "iopub.execute_input": "2025-05-13T05:33:29.509826Z",
     "iopub.status.busy": "2025-05-13T05:33:29.509268Z",
     "iopub.status.idle": "2025-05-13T05:33:29.520925Z",
     "shell.execute_reply": "2025-05-13T05:33:29.520173Z",
     "shell.execute_reply.started": "2025-05-13T05:33:29.509788Z"
    },
    "trusted": true
   },
   "outputs": [
    {
     "name": "stdout",
     "output_type": "stream",
     "text": [
      "correct      0\n",
      "incorrect    0\n",
      "dtype: int64\n",
      "correct      0\n",
      "incorrect    0\n",
      "dtype: int64\n"
     ]
    }
   ],
   "source": [
    "print(df_valid.isnull().sum())\n",
    "print(df_train.isnull().sum())"
   ]
  },
  {
   "cell_type": "code",
   "execution_count": 13,
   "metadata": {
    "execution": {
     "iopub.execute_input": "2025-05-13T05:35:32.365987Z",
     "iopub.status.busy": "2025-05-13T05:35:32.365308Z",
     "iopub.status.idle": "2025-05-13T05:35:32.472619Z",
     "shell.execute_reply": "2025-05-13T05:35:32.471895Z",
     "shell.execute_reply.started": "2025-05-13T05:35:32.365966Z"
    },
    "trusted": true
   },
   "outputs": [
    {
     "name": "stdout",
     "output_type": "stream",
     "text": [
      "10\n",
      "23\n"
     ]
    }
   ],
   "source": [
    "print(df_valid.duplicated().sum())\n",
    "print(df_train.duplicated().sum())"
   ]
  },
  {
   "cell_type": "code",
   "execution_count": 14,
   "metadata": {
    "execution": {
     "iopub.execute_input": "2025-05-13T05:37:06.115844Z",
     "iopub.status.busy": "2025-05-13T05:37:06.115115Z",
     "iopub.status.idle": "2025-05-13T05:37:06.172656Z",
     "shell.execute_reply": "2025-05-13T05:37:06.172144Z",
     "shell.execute_reply.started": "2025-05-13T05:37:06.115813Z"
    },
    "trusted": true
   },
   "outputs": [],
   "source": [
    "df_valid = df_valid.drop_duplicates()\n",
    "df_train = df_train.drop_duplicates()"
   ]
  },
  {
   "cell_type": "code",
   "execution_count": 15,
   "metadata": {
    "execution": {
     "iopub.execute_input": "2025-05-13T05:37:16.024279Z",
     "iopub.status.busy": "2025-05-13T05:37:16.024016Z",
     "iopub.status.idle": "2025-05-13T05:37:16.081154Z",
     "shell.execute_reply": "2025-05-13T05:37:16.080565Z",
     "shell.execute_reply.started": "2025-05-13T05:37:16.024260Z"
    },
    "trusted": true
   },
   "outputs": [
    {
     "name": "stdout",
     "output_type": "stream",
     "text": [
      "0\n",
      "0\n"
     ]
    }
   ],
   "source": [
    "print(df_valid.duplicated().sum())\n",
    "print(df_train.duplicated().sum())"
   ]
  },
  {
   "cell_type": "code",
   "execution_count": 16,
   "metadata": {
    "execution": {
     "iopub.execute_input": "2025-05-13T05:37:47.721413Z",
     "iopub.status.busy": "2025-05-13T05:37:47.721156Z",
     "iopub.status.idle": "2025-05-13T05:37:47.727657Z",
     "shell.execute_reply": "2025-05-13T05:37:47.726831Z",
     "shell.execute_reply.started": "2025-05-13T05:37:47.721395Z"
    },
    "trusted": true
   },
   "outputs": [],
   "source": [
    "import numpy as np\n",
    "import random\n",
    "\n",
    "# Parameters\n",
    "num_nans = 50  # total number of NaNs to insert\n",
    "\n",
    "# Get DataFrame shape\n",
    "rows, cols = df_valid.shape\n",
    "columns = df_valid.columns.tolist()\n",
    "\n",
    "# Add NaNs at random (row, column) positions\n",
    "for _ in range(num_nans):\n",
    "    rand_row = random.randint(0, rows - 1)\n",
    "    rand_col = random.choice(columns)\n",
    "    df_valid.at[rand_row, rand_col] = np.nan\n",
    "    df_train.at[rand_row, rand_col] = np.nan\n"
   ]
  },
  {
   "cell_type": "code",
   "execution_count": 17,
   "metadata": {
    "execution": {
     "iopub.execute_input": "2025-05-13T05:38:13.652654Z",
     "iopub.status.busy": "2025-05-13T05:38:13.652202Z",
     "iopub.status.idle": "2025-05-13T05:38:13.663873Z",
     "shell.execute_reply": "2025-05-13T05:38:13.663166Z",
     "shell.execute_reply.started": "2025-05-13T05:38:13.652631Z"
    },
    "trusted": true
   },
   "outputs": [
    {
     "name": "stdout",
     "output_type": "stream",
     "text": [
      "correct      23\n",
      "incorrect    27\n",
      "dtype: int64\n",
      "correct      23\n",
      "incorrect    27\n",
      "dtype: int64\n"
     ]
    }
   ],
   "source": [
    "print(df_valid.isnull().sum())\n",
    "print(df_train.isnull().sum())"
   ]
  },
  {
   "cell_type": "code",
   "execution_count": 18,
   "metadata": {
    "execution": {
     "iopub.execute_input": "2025-05-13T05:38:45.623377Z",
     "iopub.status.busy": "2025-05-13T05:38:45.622820Z",
     "iopub.status.idle": "2025-05-13T05:38:45.636408Z",
     "shell.execute_reply": "2025-05-13T05:38:45.635853Z",
     "shell.execute_reply.started": "2025-05-13T05:38:45.623353Z"
    },
    "trusted": true
   },
   "outputs": [],
   "source": [
    "df_valid = df_valid.dropna()\n",
    "df_train = df_train.dropna()"
   ]
  },
  {
   "cell_type": "code",
   "execution_count": 19,
   "metadata": {
    "execution": {
     "iopub.execute_input": "2025-05-13T05:38:54.292931Z",
     "iopub.status.busy": "2025-05-13T05:38:54.292385Z",
     "iopub.status.idle": "2025-05-13T05:38:54.303683Z",
     "shell.execute_reply": "2025-05-13T05:38:54.302952Z",
     "shell.execute_reply.started": "2025-05-13T05:38:54.292907Z"
    },
    "trusted": true
   },
   "outputs": [
    {
     "name": "stdout",
     "output_type": "stream",
     "text": [
      "correct      0\n",
      "incorrect    0\n",
      "dtype: int64\n",
      "correct      0\n",
      "incorrect    0\n",
      "dtype: int64\n"
     ]
    }
   ],
   "source": [
    "print(df_valid.isnull().sum())\n",
    "print(df_train.isnull().sum())"
   ]
  },
  {
   "cell_type": "code",
   "execution_count": 20,
   "metadata": {
    "execution": {
     "iopub.execute_input": "2025-05-13T05:38:58.975364Z",
     "iopub.status.busy": "2025-05-13T05:38:58.974620Z",
     "iopub.status.idle": "2025-05-13T05:38:58.984721Z",
     "shell.execute_reply": "2025-05-13T05:38:58.983995Z",
     "shell.execute_reply.started": "2025-05-13T05:38:58.975338Z"
    },
    "trusted": true
   },
   "outputs": [
    {
     "data": {
      "text/html": [
       "<div>\n",
       "<style scoped>\n",
       "    .dataframe tbody tr th:only-of-type {\n",
       "        vertical-align: middle;\n",
       "    }\n",
       "\n",
       "    .dataframe tbody tr th {\n",
       "        vertical-align: top;\n",
       "    }\n",
       "\n",
       "    .dataframe thead th {\n",
       "        text-align: right;\n",
       "    }\n",
       "</style>\n",
       "<table border=\"1\" class=\"dataframe\">\n",
       "  <thead>\n",
       "    <tr style=\"text-align: right;\">\n",
       "      <th></th>\n",
       "      <th>correct</th>\n",
       "      <th>incorrect</th>\n",
       "    </tr>\n",
       "  </thead>\n",
       "  <tbody>\n",
       "    <tr>\n",
       "      <th>0</th>\n",
       "      <td>سبحان الله ، الحكام العرب سيموت علي الكرسي ليظ...</td>\n",
       "      <td>سبحان الله الحكام العرب سيموت علي الكرسي ليضهر...</td>\n",
       "    </tr>\n",
       "    <tr>\n",
       "      <th>1</th>\n",
       "      <td>النصر ات لا محال ان شاء الله . من يءمن بالله و...</td>\n",
       "      <td>النصر ات لا محال انشاء الله من يءمن بالله والي...</td>\n",
       "    </tr>\n",
       "    <tr>\n",
       "      <th>2</th>\n",
       "      <td>الي كل شخص يعتقد ان بشار الاسد سوف يخرج من سور...</td>\n",
       "      <td>الي كل شخص يعتقد ان بشار الاسد سوف يخرج من سور...</td>\n",
       "    </tr>\n",
       "    <tr>\n",
       "      <th>3</th>\n",
       "      <td>الاسد وعصابته - لحد الان - غير مستوعبين انه رح...</td>\n",
       "      <td>الاسد وعصابته لحد الان غير مستوعبين ان و رح ين...</td>\n",
       "    </tr>\n",
       "    <tr>\n",
       "      <th>4</th>\n",
       "      <td>النظام الاسدي تجاوز حتي ما فعله معمر القذافي ف...</td>\n",
       "      <td>النظام الاسدي تجاوز حتي ما فعله معمر القذافي ف...</td>\n",
       "    </tr>\n",
       "    <tr>\n",
       "      <th>...</th>\n",
       "      <td>...</td>\n",
       "      <td>...</td>\n",
       "    </tr>\n",
       "    <tr>\n",
       "      <th>2288</th>\n",
       "      <td>اعتقد ان اي مسلم من المستحيل ان يفعل هذا ، سوا...</td>\n",
       "      <td>اعتقد ان اي مسلم من المستحيل ان يفعل هذا سواء ...</td>\n",
       "    </tr>\n",
       "    <tr>\n",
       "      <th>2289</th>\n",
       "      <td>( . . وهو يصلح جدران بيته ويصبغها ، وحينما يست...</td>\n",
       "      <td>( . . وهو يصلح جدران بيته ويصبغها وحينما يستعص...</td>\n",
       "    </tr>\n",
       "    <tr>\n",
       "      <th>2290</th>\n",
       "      <td>انا استغرب ممن ينكر علي الجزيره ويصفها باثاره ...</td>\n",
       "      <td>انا استغرب ممن ينكر علي الجزيره ويصفها باثاره ...</td>\n",
       "    </tr>\n",
       "    <tr>\n",
       "      <th>2291</th>\n",
       "      <td>تصرف طبيعي ، اي انسان في امريكا يتعرض بالنقد ل...</td>\n",
       "      <td>تصرف طبيعي اي انسان في امريكا يتعرض بالنقد للي...</td>\n",
       "    </tr>\n",
       "    <tr>\n",
       "      <th>2292</th>\n",
       "      <td>اسراءيل سوف لن تنهار بهذه السهوله ، الا اذا تا...</td>\n",
       "      <td>اسراءيل سوف لن تنهار بهذه السهوله , الا اذا تا...</td>\n",
       "    </tr>\n",
       "  </tbody>\n",
       "</table>\n",
       "<p>20510 rows × 2 columns</p>\n",
       "</div>"
      ],
      "text/plain": [
       "                                                correct  \\\n",
       "0     سبحان الله ، الحكام العرب سيموت علي الكرسي ليظ...   \n",
       "1     النصر ات لا محال ان شاء الله . من يءمن بالله و...   \n",
       "2     الي كل شخص يعتقد ان بشار الاسد سوف يخرج من سور...   \n",
       "3     الاسد وعصابته - لحد الان - غير مستوعبين انه رح...   \n",
       "4     النظام الاسدي تجاوز حتي ما فعله معمر القذافي ف...   \n",
       "...                                                 ...   \n",
       "2288  اعتقد ان اي مسلم من المستحيل ان يفعل هذا ، سوا...   \n",
       "2289  ( . . وهو يصلح جدران بيته ويصبغها ، وحينما يست...   \n",
       "2290  انا استغرب ممن ينكر علي الجزيره ويصفها باثاره ...   \n",
       "2291  تصرف طبيعي ، اي انسان في امريكا يتعرض بالنقد ل...   \n",
       "2292  اسراءيل سوف لن تنهار بهذه السهوله ، الا اذا تا...   \n",
       "\n",
       "                                              incorrect  \n",
       "0     سبحان الله الحكام العرب سيموت علي الكرسي ليضهر...  \n",
       "1     النصر ات لا محال انشاء الله من يءمن بالله والي...  \n",
       "2     الي كل شخص يعتقد ان بشار الاسد سوف يخرج من سور...  \n",
       "3     الاسد وعصابته لحد الان غير مستوعبين ان و رح ين...  \n",
       "4     النظام الاسدي تجاوز حتي ما فعله معمر القذافي ف...  \n",
       "...                                                 ...  \n",
       "2288  اعتقد ان اي مسلم من المستحيل ان يفعل هذا سواء ...  \n",
       "2289  ( . . وهو يصلح جدران بيته ويصبغها وحينما يستعص...  \n",
       "2290  انا استغرب ممن ينكر علي الجزيره ويصفها باثاره ...  \n",
       "2291  تصرف طبيعي اي انسان في امريكا يتعرض بالنقد للي...  \n",
       "2292  اسراءيل سوف لن تنهار بهذه السهوله , الا اذا تا...  \n",
       "\n",
       "[20510 rows x 2 columns]"
      ]
     },
     "execution_count": 20,
     "metadata": {},
     "output_type": "execute_result"
    }
   ],
   "source": [
    "df = pd.concat([df_train, df_valid])\n",
    "df"
   ]
  },
  {
   "cell_type": "code",
   "execution_count": 21,
   "metadata": {
    "execution": {
     "iopub.execute_input": "2025-05-13T05:39:04.178626Z",
     "iopub.status.busy": "2025-05-13T05:39:04.177886Z",
     "iopub.status.idle": "2025-05-13T05:39:12.475680Z",
     "shell.execute_reply": "2025-05-13T05:39:12.474862Z",
     "shell.execute_reply.started": "2025-05-13T05:39:04.178591Z"
    },
    "trusted": true
   },
   "outputs": [
    {
     "data": {
      "text/html": [
       "<div>\n",
       "<style scoped>\n",
       "    .dataframe tbody tr th:only-of-type {\n",
       "        vertical-align: middle;\n",
       "    }\n",
       "\n",
       "    .dataframe tbody tr th {\n",
       "        vertical-align: top;\n",
       "    }\n",
       "\n",
       "    .dataframe thead th {\n",
       "        text-align: right;\n",
       "    }\n",
       "</style>\n",
       "<table border=\"1\" class=\"dataframe\">\n",
       "  <thead>\n",
       "    <tr style=\"text-align: right;\">\n",
       "      <th></th>\n",
       "      <th>correct</th>\n",
       "      <th>incorrect</th>\n",
       "      <th>word_count_correct</th>\n",
       "      <th>word_count_incorrect</th>\n",
       "      <th>stopwords_correct</th>\n",
       "      <th>stopwords_incorrect</th>\n",
       "      <th>emoji_count_correct</th>\n",
       "      <th>emoji_count_incorrect</th>\n",
       "    </tr>\n",
       "  </thead>\n",
       "  <tbody>\n",
       "    <tr>\n",
       "      <th>0</th>\n",
       "      <td>سبحان الله ، الحكام العرب سيموت علي الكرسي ليظ...</td>\n",
       "      <td>سبحان الله الحكام العرب سيموت علي الكرسي ليضهر...</td>\n",
       "      <td>65</td>\n",
       "      <td>59</td>\n",
       "      <td>12</td>\n",
       "      <td>8</td>\n",
       "      <td>0</td>\n",
       "      <td>0</td>\n",
       "    </tr>\n",
       "    <tr>\n",
       "      <th>1</th>\n",
       "      <td>النصر ات لا محال ان شاء الله . من يءمن بالله و...</td>\n",
       "      <td>النصر ات لا محال انشاء الله من يءمن بالله والي...</td>\n",
       "      <td>54</td>\n",
       "      <td>45</td>\n",
       "      <td>10</td>\n",
       "      <td>10</td>\n",
       "      <td>0</td>\n",
       "      <td>0</td>\n",
       "    </tr>\n",
       "    <tr>\n",
       "      <th>2</th>\n",
       "      <td>الي كل شخص يعتقد ان بشار الاسد سوف يخرج من سور...</td>\n",
       "      <td>الي كل شخص يعتقد ان بشار الاسد سوف يخرج من سور...</td>\n",
       "      <td>66</td>\n",
       "      <td>57</td>\n",
       "      <td>7</td>\n",
       "      <td>7</td>\n",
       "      <td>0</td>\n",
       "      <td>0</td>\n",
       "    </tr>\n",
       "    <tr>\n",
       "      <th>3</th>\n",
       "      <td>الاسد وعصابته - لحد الان - غير مستوعبين انه رح...</td>\n",
       "      <td>الاسد وعصابته لحد الان غير مستوعبين ان و رح ين...</td>\n",
       "      <td>70</td>\n",
       "      <td>62</td>\n",
       "      <td>10</td>\n",
       "      <td>10</td>\n",
       "      <td>0</td>\n",
       "      <td>0</td>\n",
       "    </tr>\n",
       "    <tr>\n",
       "      <th>4</th>\n",
       "      <td>النظام الاسدي تجاوز حتي ما فعله معمر القذافي ف...</td>\n",
       "      <td>النظام الاسدي تجاوز حتي ما فعله معمر القذافي ف...</td>\n",
       "      <td>66</td>\n",
       "      <td>64</td>\n",
       "      <td>11</td>\n",
       "      <td>11</td>\n",
       "      <td>0</td>\n",
       "      <td>0</td>\n",
       "    </tr>\n",
       "  </tbody>\n",
       "</table>\n",
       "</div>"
      ],
      "text/plain": [
       "                                             correct  \\\n",
       "0  سبحان الله ، الحكام العرب سيموت علي الكرسي ليظ...   \n",
       "1  النصر ات لا محال ان شاء الله . من يءمن بالله و...   \n",
       "2  الي كل شخص يعتقد ان بشار الاسد سوف يخرج من سور...   \n",
       "3  الاسد وعصابته - لحد الان - غير مستوعبين انه رح...   \n",
       "4  النظام الاسدي تجاوز حتي ما فعله معمر القذافي ف...   \n",
       "\n",
       "                                           incorrect  word_count_correct  \\\n",
       "0  سبحان الله الحكام العرب سيموت علي الكرسي ليضهر...                  65   \n",
       "1  النصر ات لا محال انشاء الله من يءمن بالله والي...                  54   \n",
       "2  الي كل شخص يعتقد ان بشار الاسد سوف يخرج من سور...                  66   \n",
       "3  الاسد وعصابته لحد الان غير مستوعبين ان و رح ين...                  70   \n",
       "4  النظام الاسدي تجاوز حتي ما فعله معمر القذافي ف...                  66   \n",
       "\n",
       "   word_count_incorrect  stopwords_correct  stopwords_incorrect  \\\n",
       "0                    59                 12                    8   \n",
       "1                    45                 10                   10   \n",
       "2                    57                  7                    7   \n",
       "3                    62                 10                   10   \n",
       "4                    64                 11                   11   \n",
       "\n",
       "   emoji_count_correct  emoji_count_incorrect  \n",
       "0                    0                      0  \n",
       "1                    0                      0  \n",
       "2                    0                      0  \n",
       "3                    0                      0  \n",
       "4                    0                      0  "
      ]
     },
     "execution_count": 21,
     "metadata": {},
     "output_type": "execute_result"
    }
   ],
   "source": [
    "stop = set(nltk.corpus.stopwords.words(\"arabic\"))\n",
    "\n",
    "# Text length analysis \n",
    "def avg_word(sentence):\n",
    "    words = sentence.split()\n",
    "    if len(words) == 0:\n",
    "        return 0\n",
    "    return (sum(len(word) for word in words)/len(words))\n",
    "\n",
    "# Counting emoji\n",
    "def emoji_counter(sentence):\n",
    "    return emoji.emoji_count(sentence)\n",
    "\n",
    "df['word_count_correct'] = df['correct'].apply(lambda x: len(str(x).split(\" \")))\n",
    "df['word_count_incorrect'] = df['incorrect'].apply(lambda x: len(str(x).split(\" \")))\n",
    "df['stopwords_correct'] = df['correct'].apply(lambda x: len([x for x in x.split() if x in stop]))\n",
    "df['stopwords_incorrect'] = df['incorrect'].apply(lambda x: len([x for x in x.split() if x in stop]))\n",
    "df['emoji_count_correct'] = df['correct'].apply(lambda x: emoji_counter(x))\n",
    "df['emoji_count_incorrect'] = df['incorrect'].apply(lambda x: emoji_counter(x))\n",
    "df.head()"
   ]
  },
  {
   "cell_type": "code",
   "execution_count": 22,
   "metadata": {
    "execution": {
     "iopub.execute_input": "2025-05-13T05:27:25.393214Z",
     "iopub.status.busy": "2025-05-13T05:27:25.392924Z",
     "iopub.status.idle": "2025-05-13T05:27:25.426577Z",
     "shell.execute_reply": "2025-05-13T05:27:25.425865Z",
     "shell.execute_reply.started": "2025-05-13T05:27:25.393195Z"
    },
    "trusted": true
   },
   "outputs": [
    {
     "data": {
      "text/html": [
       "<div>\n",
       "<style scoped>\n",
       "    .dataframe tbody tr th:only-of-type {\n",
       "        vertical-align: middle;\n",
       "    }\n",
       "\n",
       "    .dataframe tbody tr th {\n",
       "        vertical-align: top;\n",
       "    }\n",
       "\n",
       "    .dataframe thead th {\n",
       "        text-align: right;\n",
       "    }\n",
       "</style>\n",
       "<table border=\"1\" class=\"dataframe\">\n",
       "  <thead>\n",
       "    <tr style=\"text-align: right;\">\n",
       "      <th></th>\n",
       "      <th>word_count_correct</th>\n",
       "      <th>word_count_incorrect</th>\n",
       "      <th>stopwords_correct</th>\n",
       "      <th>stopwords_incorrect</th>\n",
       "      <th>emoji_count_correct</th>\n",
       "      <th>emoji_count_incorrect</th>\n",
       "    </tr>\n",
       "  </thead>\n",
       "  <tbody>\n",
       "    <tr>\n",
       "      <th>count</th>\n",
       "      <td>20510.000000</td>\n",
       "      <td>20510.000000</td>\n",
       "      <td>20510.000000</td>\n",
       "      <td>20510.000000</td>\n",
       "      <td>20510.0</td>\n",
       "      <td>20510.0</td>\n",
       "    </tr>\n",
       "    <tr>\n",
       "      <th>mean</th>\n",
       "      <td>58.727353</td>\n",
       "      <td>54.250171</td>\n",
       "      <td>9.334812</td>\n",
       "      <td>9.741589</td>\n",
       "      <td>0.0</td>\n",
       "      <td>0.0</td>\n",
       "    </tr>\n",
       "    <tr>\n",
       "      <th>std</th>\n",
       "      <td>18.534074</td>\n",
       "      <td>17.581705</td>\n",
       "      <td>4.497467</td>\n",
       "      <td>5.002717</td>\n",
       "      <td>0.0</td>\n",
       "      <td>0.0</td>\n",
       "    </tr>\n",
       "    <tr>\n",
       "      <th>min</th>\n",
       "      <td>6.000000</td>\n",
       "      <td>6.000000</td>\n",
       "      <td>0.000000</td>\n",
       "      <td>0.000000</td>\n",
       "      <td>0.0</td>\n",
       "      <td>0.0</td>\n",
       "    </tr>\n",
       "    <tr>\n",
       "      <th>25%</th>\n",
       "      <td>51.000000</td>\n",
       "      <td>47.000000</td>\n",
       "      <td>7.000000</td>\n",
       "      <td>7.000000</td>\n",
       "      <td>0.0</td>\n",
       "      <td>0.0</td>\n",
       "    </tr>\n",
       "    <tr>\n",
       "      <th>50%</th>\n",
       "      <td>57.000000</td>\n",
       "      <td>52.000000</td>\n",
       "      <td>9.000000</td>\n",
       "      <td>9.000000</td>\n",
       "      <td>0.0</td>\n",
       "      <td>0.0</td>\n",
       "    </tr>\n",
       "    <tr>\n",
       "      <th>75%</th>\n",
       "      <td>63.000000</td>\n",
       "      <td>58.000000</td>\n",
       "      <td>11.000000</td>\n",
       "      <td>12.000000</td>\n",
       "      <td>0.0</td>\n",
       "      <td>0.0</td>\n",
       "    </tr>\n",
       "    <tr>\n",
       "      <th>max</th>\n",
       "      <td>484.000000</td>\n",
       "      <td>461.000000</td>\n",
       "      <td>132.000000</td>\n",
       "      <td>132.000000</td>\n",
       "      <td>0.0</td>\n",
       "      <td>0.0</td>\n",
       "    </tr>\n",
       "  </tbody>\n",
       "</table>\n",
       "</div>"
      ],
      "text/plain": [
       "       word_count_correct  word_count_incorrect  stopwords_correct  \\\n",
       "count        20510.000000          20510.000000       20510.000000   \n",
       "mean            58.727353             54.250171           9.334812   \n",
       "std             18.534074             17.581705           4.497467   \n",
       "min              6.000000              6.000000           0.000000   \n",
       "25%             51.000000             47.000000           7.000000   \n",
       "50%             57.000000             52.000000           9.000000   \n",
       "75%             63.000000             58.000000          11.000000   \n",
       "max            484.000000            461.000000         132.000000   \n",
       "\n",
       "       stopwords_incorrect  emoji_count_correct  emoji_count_incorrect  \n",
       "count         20510.000000              20510.0                20510.0  \n",
       "mean              9.741589                  0.0                    0.0  \n",
       "std               5.002717                  0.0                    0.0  \n",
       "min               0.000000                  0.0                    0.0  \n",
       "25%               7.000000                  0.0                    0.0  \n",
       "50%               9.000000                  0.0                    0.0  \n",
       "75%              12.000000                  0.0                    0.0  \n",
       "max             132.000000                  0.0                    0.0  "
      ]
     },
     "execution_count": 22,
     "metadata": {},
     "output_type": "execute_result"
    }
   ],
   "source": [
    "df.describe() "
   ]
  },
  {
   "cell_type": "code",
   "execution_count": 23,
   "metadata": {
    "execution": {
     "iopub.execute_input": "2025-05-13T05:39:58.106775Z",
     "iopub.status.busy": "2025-05-13T05:39:58.106120Z",
     "iopub.status.idle": "2025-05-13T05:39:58.110965Z",
     "shell.execute_reply": "2025-05-13T05:39:58.110220Z",
     "shell.execute_reply.started": "2025-05-13T05:39:58.106752Z"
    },
    "trusted": true
   },
   "outputs": [],
   "source": [
    "# Function to add a random character to a word in Arabic text\n",
    "def add_random_arabic_character(word):\n",
    "    arabic_chars = \"ابتثجحخدذرزسشصضطظعغفقكلمنهوي\"\n",
    "    random_char = random.choice(arabic_chars)\n",
    "    return word + random_char\n",
    "\n",
    "# Function to remove a random character from a word in Arabic text\n",
    "def remove_random_arabic_character(word):\n",
    "    if len(word) <= 1:\n",
    "        return word  # If the word has only one character, return the same word\n",
    "    random_index = random.randint(0, len(word) - 1)  # Choose a random index\n",
    "    return word[:random_index] + word[random_index + 1:]  # Remove the character at the random index"
   ]
  },
  {
   "cell_type": "code",
   "execution_count": 24,
   "metadata": {
    "execution": {
     "iopub.execute_input": "2025-05-13T05:40:05.177185Z",
     "iopub.status.busy": "2025-05-13T05:40:05.176548Z",
     "iopub.status.idle": "2025-05-13T05:40:05.181426Z",
     "shell.execute_reply": "2025-05-13T05:40:05.180779Z",
     "shell.execute_reply.started": "2025-05-13T05:40:05.177159Z"
    },
    "trusted": true
   },
   "outputs": [],
   "source": [
    "def modify_text_all_words(text):\n",
    "    words = text.split()\n",
    "    modified_words = []\n",
    "    for word in words:\n",
    "        modify_choice = random.choice([\"add\", \"remove\"])\n",
    "        if modify_choice == \"add\":\n",
    "            modified_words.append(add_random_arabic_character(word))\n",
    "        elif modify_choice == \"remove\":\n",
    "            modified_words.append(remove_random_arabic_character(word))\n",
    "    return ' '.join(modified_words)\n"
   ]
  },
  {
   "cell_type": "code",
   "execution_count": 30,
   "metadata": {
    "execution": {
     "iopub.execute_input": "2025-05-13T05:40:33.663528Z",
     "iopub.status.busy": "2025-05-13T05:40:33.663012Z",
     "iopub.status.idle": "2025-05-13T05:40:34.814338Z",
     "shell.execute_reply": "2025-05-13T05:40:34.813810Z",
     "shell.execute_reply.started": "2025-05-13T05:40:33.663506Z"
    },
    "trusted": true
   },
   "outputs": [],
   "source": [
    "df['new_incorrect'] = df['correct'].apply(modify_text_all_words)"
   ]
  },
  {
   "cell_type": "code",
   "execution_count": 31,
   "metadata": {
    "execution": {
     "iopub.execute_input": "2025-05-13T05:40:38.333382Z",
     "iopub.status.busy": "2025-05-13T05:40:38.332707Z",
     "iopub.status.idle": "2025-05-13T05:40:38.339325Z",
     "shell.execute_reply": "2025-05-13T05:40:38.338741Z",
     "shell.execute_reply.started": "2025-05-13T05:40:38.333361Z"
    },
    "trusted": true
   },
   "outputs": [
    {
     "data": {
      "text/plain": [
       "0       سبحا اللهد ،ي الحكامك اعرب سيموتع عليك الكرسيو...\n",
       "1       النر ت ل محالد انك شاءت الل . ن يءمنث باللهص و...\n",
       "2       اليت ك شخصو يعتد ن بشارض ااسد سوفش يخرجن ن سور...\n",
       "3       الاد وصابته -ت لحدح الن - غيرس مسوعبين اه ر ين...\n",
       "4       لنظام الاسديش تجاوزظ حتيث م فله معمرس القذاي ف...\n",
       "                              ...                        \n",
       "2288    اعتقدخ انر ا مسلمد م المستحيلف انث يفل هذاز ، ...\n",
       "2289    ( .ش . وه صلح جدان يته ويصبغهاث ، وحينماك يستع...\n",
       "2290    اناغ استغربم ممنل ينر عل الجزيرهذ ويصفهاط باثا...\n",
       "2291    تصرفو طيعي ، ي انسانس فيج امريكاه يتعرضخ بالقد...\n",
       "2292    اسراءل سوفج لنخ تنهارع بهذهن السوله ،ز اا اا ت...\n",
       "Name: new_incorrect, Length: 20510, dtype: object"
      ]
     },
     "execution_count": 31,
     "metadata": {},
     "output_type": "execute_result"
    }
   ],
   "source": [
    "df['new_incorrect']"
   ]
  },
  {
   "cell_type": "code",
   "execution_count": 32,
   "metadata": {
    "execution": {
     "iopub.execute_input": "2025-05-13T05:40:44.966246Z",
     "iopub.status.busy": "2025-05-13T05:40:44.965570Z",
     "iopub.status.idle": "2025-05-13T05:40:44.974427Z",
     "shell.execute_reply": "2025-05-13T05:40:44.973618Z",
     "shell.execute_reply.started": "2025-05-13T05:40:44.966224Z"
    },
    "trusted": true
   },
   "outputs": [],
   "source": [
    "df=df[[\"correct\",\"new_incorrect\"]]"
   ]
  },
  {
   "cell_type": "code",
   "execution_count": 33,
   "metadata": {
    "execution": {
     "iopub.execute_input": "2025-05-13T05:40:49.384835Z",
     "iopub.status.busy": "2025-05-13T05:40:49.384237Z",
     "iopub.status.idle": "2025-05-13T05:40:56.834999Z",
     "shell.execute_reply": "2025-05-13T05:40:56.834268Z",
     "shell.execute_reply.started": "2025-05-13T05:40:49.384783Z"
    },
    "trusted": true
   },
   "outputs": [
    {
     "data": {
      "text/html": [
       "<div>\n",
       "<style scoped>\n",
       "    .dataframe tbody tr th:only-of-type {\n",
       "        vertical-align: middle;\n",
       "    }\n",
       "\n",
       "    .dataframe tbody tr th {\n",
       "        vertical-align: top;\n",
       "    }\n",
       "\n",
       "    .dataframe thead th {\n",
       "        text-align: right;\n",
       "    }\n",
       "</style>\n",
       "<table border=\"1\" class=\"dataframe\">\n",
       "  <thead>\n",
       "    <tr style=\"text-align: right;\">\n",
       "      <th></th>\n",
       "      <th>correct</th>\n",
       "      <th>new_incorrect</th>\n",
       "    </tr>\n",
       "  </thead>\n",
       "  <tbody>\n",
       "    <tr>\n",
       "      <th>13783</th>\n",
       "      <td>جعجعه بس ما في طحن  هذا هو مستوي الاخوان الحقي...</td>\n",
       "      <td>جععه بست ماض ف حن  ذا هوش متوي الاخواني الحيقي...</td>\n",
       "    </tr>\n",
       "    <tr>\n",
       "      <th>11852</th>\n",
       "      <td>مصيبه الاسلام في \" مسلمي \" هذا الزمان  ان ليس ...</td>\n",
       "      <td>صيبه الاسلامغ فيا \"ز مسلميو \" ها الزمانك  ن لي...</td>\n",
       "    </tr>\n",
       "    <tr>\n",
       "      <th>17060</th>\n",
       "      <td>انا لله وانا اليه راجعون   بن بله هو اب الفقرا...</td>\n",
       "      <td>اناز له ونا اليهي راجعونت ض  بنخ بل هوذ ابص ال...</td>\n",
       "    </tr>\n",
       "    <tr>\n",
       "      <th>8790</th>\n",
       "      <td>انتم الذين تريدون الامم المتحده والدول ان تسكت...</td>\n",
       "      <td>انتمم الذي ريدون الاممر امتحده والدو ا تكت ع ج...</td>\n",
       "    </tr>\n",
       "    <tr>\n",
       "      <th>14627</th>\n",
       "      <td>لن نقبل بان تكون مصر مرتعا للاخوان ويحولوها ال...</td>\n",
       "      <td>ن نقبلض بانث تون صر مرتعام لاخوان ويحولوهاغ ال...</td>\n",
       "    </tr>\n",
       "  </tbody>\n",
       "</table>\n",
       "</div>"
      ],
      "text/plain": [
       "                                                 correct  \\\n",
       "13783  جعجعه بس ما في طحن  هذا هو مستوي الاخوان الحقي...   \n",
       "11852  مصيبه الاسلام في \" مسلمي \" هذا الزمان  ان ليس ...   \n",
       "17060  انا لله وانا اليه راجعون   بن بله هو اب الفقرا...   \n",
       "8790   انتم الذين تريدون الامم المتحده والدول ان تسكت...   \n",
       "14627  لن نقبل بان تكون مصر مرتعا للاخوان ويحولوها ال...   \n",
       "\n",
       "                                           new_incorrect  \n",
       "13783  جععه بست ماض ف حن  ذا هوش متوي الاخواني الحيقي...  \n",
       "11852  صيبه الاسلامغ فيا \"ز مسلميو \" ها الزمانك  ن لي...  \n",
       "17060  اناز له ونا اليهي راجعونت ض  بنخ بل هوذ ابص ال...  \n",
       "8790   انتمم الذي ريدون الاممر امتحده والدو ا تكت ع ج...  \n",
       "14627  ن نقبلض بانث تون صر مرتعام لاخوان ويحولوهاغ ال...  "
      ]
     },
     "execution_count": 33,
     "metadata": {},
     "output_type": "execute_result"
    }
   ],
   "source": [
    "arabicPunctuations = [\".\",\"#\",\"$\",\"//\",\"?\",\"=\",\"'\",\"_\",\"-\",\"'\",\";\",\"\\\\\",\"`\",\"؛\",\"<\",\">\",\"(\",\")\",\"*\",\"&\",\"^\",\"%\",\"]\",\"[\",\",\",\"ـ\",\"،\",\"/\",\":\",\"؟\",\".\",\"'\",\"{\",\"}\",\"~\",\"|\",\"!\",\"”\",\"…\",\"“\",\"–\"] # defining customized punctuation marks\n",
    "englishPunctuations = string.punctuation # importing English punctuation marks\n",
    "englishPunctuations = [word.strip() for word in englishPunctuations] # converting the English punctuation from a string to array for processing\n",
    "punctuationsList = arabicPunctuations + englishPunctuations # creating a list of all punctuation marks\n",
    "\n",
    "def removingPunctuation(text):\n",
    "  cleanTweet = ''\n",
    "  for i in text:\n",
    "    if i not in arabicPunctuations:\n",
    "      cleanTweet = cleanTweet + '' + i \n",
    "  return cleanTweet\n",
    "\n",
    "df['correct'] = df['correct'].apply(lambda x: removingPunctuation(x))\n",
    "df['new_incorrect'] = df['new_incorrect'].apply(lambda x: removingPunctuation(x))\n",
    "\n",
    "\n",
    "df.sample(5)\n"
   ]
  },
  {
   "cell_type": "code",
   "execution_count": 34,
   "metadata": {
    "execution": {
     "iopub.execute_input": "2025-05-13T05:41:13.761967Z",
     "iopub.status.busy": "2025-05-13T05:41:13.761242Z",
     "iopub.status.idle": "2025-05-13T05:41:15.965538Z",
     "shell.execute_reply": "2025-05-13T05:41:15.965010Z",
     "shell.execute_reply.started": "2025-05-13T05:41:13.761942Z"
    },
    "trusted": true
   },
   "outputs": [],
   "source": [
    "def clean(text):\n",
    "    # Remove extra whitespace\n",
    "    text = re.sub('\\s+', ' ', text)  \n",
    "    # Remove numbers\n",
    "    text = re.sub(\"\\d+\", \" \", text)\n",
    "    return text\n",
    "\n",
    "df['correct'] = df['correct'].apply(lambda x:clean(x))\n",
    "df['correct'] = df['correct'].apply(lambda x:clean(x))\n",
    "\n",
    "df['new_incorrect'] = df['new_incorrect'].apply(lambda x:clean(x))\n",
    "df['new_incorrect'] = df['new_incorrect'].apply(lambda x:clean(x))"
   ]
  },
  {
   "cell_type": "code",
   "execution_count": 35,
   "metadata": {
    "execution": {
     "iopub.execute_input": "2025-05-13T05:41:17.915439Z",
     "iopub.status.busy": "2025-05-13T05:41:17.915182Z",
     "iopub.status.idle": "2025-05-13T05:41:19.253463Z",
     "shell.execute_reply": "2025-05-13T05:41:19.252692Z",
     "shell.execute_reply.started": "2025-05-13T05:41:17.915422Z"
    },
    "trusted": true
   },
   "outputs": [],
   "source": [
    "# Initialize the Tokenizer\n",
    "tokenizer = tf.keras.preprocessing.text.Tokenizer(char_level=False)\n",
    "# Fit the tokenizer on the concatenated correct and incorrect texts\n",
    "tokenizer.fit_on_texts(df['correct'])"
   ]
  },
  {
   "cell_type": "code",
   "execution_count": 36,
   "metadata": {
    "execution": {
     "iopub.execute_input": "2025-05-13T05:41:24.067056Z",
     "iopub.status.busy": "2025-05-13T05:41:24.066742Z",
     "iopub.status.idle": "2025-05-13T05:41:25.888803Z",
     "shell.execute_reply": "2025-05-13T05:41:25.888221Z",
     "shell.execute_reply.started": "2025-05-13T05:41:24.067037Z"
    },
    "trusted": true
   },
   "outputs": [],
   "source": [
    "# Convert the texts to sequences\n",
    "correct_sequences = tokenizer.texts_to_sequences(df['correct'])\n",
    "incorrect_sequences = tokenizer.texts_to_sequences(df['new_incorrect'])"
   ]
  },
  {
   "cell_type": "code",
   "execution_count": 37,
   "metadata": {
    "execution": {
     "iopub.execute_input": "2025-05-13T05:41:28.610744Z",
     "iopub.status.busy": "2025-05-13T05:41:28.610072Z",
     "iopub.status.idle": "2025-05-13T05:41:28.616238Z",
     "shell.execute_reply": "2025-05-13T05:41:28.615501Z",
     "shell.execute_reply.started": "2025-05-13T05:41:28.610721Z"
    },
    "trusted": true
   },
   "outputs": [],
   "source": [
    "# Calculate max sequence length for padding\n",
    "max_sequence_length = max(\n",
    "    max(len(seq) for seq in correct_sequences),\n",
    "    max(len(seq) for seq in incorrect_sequences)\n",
    ")"
   ]
  },
  {
   "cell_type": "code",
   "execution_count": 38,
   "metadata": {
    "execution": {
     "iopub.execute_input": "2025-05-13T05:41:29.991419Z",
     "iopub.status.busy": "2025-05-13T05:41:29.990690Z",
     "iopub.status.idle": "2025-05-13T05:41:30.154387Z",
     "shell.execute_reply": "2025-05-13T05:41:30.153849Z",
     "shell.execute_reply.started": "2025-05-13T05:41:29.991395Z"
    },
    "trusted": true
   },
   "outputs": [],
   "source": [
    "# Pad the sequences to uniform length\n",
    "correct_sequences = pad_sequences(correct_sequences, maxlen=max_sequence_length, padding='post', truncating='post')\n",
    "incorrect_sequences = pad_sequences(incorrect_sequences, maxlen=max_sequence_length, padding='post', truncating='post')"
   ]
  },
  {
   "cell_type": "code",
   "execution_count": 39,
   "metadata": {
    "execution": {
     "iopub.execute_input": "2025-05-13T05:41:32.441690Z",
     "iopub.status.busy": "2025-05-13T05:41:32.441064Z",
     "iopub.status.idle": "2025-05-13T05:41:32.446516Z",
     "shell.execute_reply": "2025-05-13T05:41:32.445835Z",
     "shell.execute_reply.started": "2025-05-13T05:41:32.441670Z"
    },
    "trusted": true
   },
   "outputs": [
    {
     "name": "stdout",
     "output_type": "stream",
     "text": [
      "[[  836     6   380    34 12801     4  1276 21656    44 18432  4941    72\n",
      "     26    47  1220  2442    17   398 21657     1   213 12802  1319 18433\n",
      "   6099   322  2350 21658     9   172    19 26301  6727   398  3027  1892\n",
      "     12  2443 18434 12803     2  2781  1087  7508    97 12804  4942 26302\n",
      "     31 12805  1276  4561  1709  2528 49000 18435     0     0     0     0\n",
      "      0     0     0     0     0     0     0     0     0     0     0     0\n",
      "      0     0     0     0     0     0     0     0     0     0     0     0\n",
      "      0     0     0     0     0     0     0     0     0     0     0     0\n",
      "      0     0     0     0     0     0     0     0     0     0     0     0\n",
      "      0     0     0     0     0     0     0     0     0     0     0     0\n",
      "      0     0     0     0     0     0     0     0     0     0     0     0\n",
      "      0     0     0     0     0     0     0     0     0     0     0     0\n",
      "      0     0     0     0     0     0     0     0     0     0     0     0\n",
      "      0     0     0     0     0     0     0     0     0     0     0     0\n",
      "      0     0     0     0     0     0     0     0     0     0     0     0\n",
      "      0     0     0     0     0     0     0     0     0     0     0     0\n",
      "      0     0     0     0     0     0     0     0     0     0     0     0\n",
      "      0     0     0     0     0     0     0     0     0     0     0     0\n",
      "      0     0     0     0     0     0     0     0     0     0     0     0\n",
      "      0     0     0     0     0     0     0     0     0     0     0     0\n",
      "      0     0     0     0     0     0     0     0     0     0     0     0\n",
      "      0     0     0     0     0     0     0     0     0     0     0     0\n",
      "      0     0     0     0     0     0     0     0     0     0     0     0\n",
      "      0     0     0     0     0     0     0     0     0     0     0     0\n",
      "      0     0     0     0     0     0     0     0     0     0     0     0\n",
      "      0     0     0     0     0     0     0     0     0     0     0     0\n",
      "      0     0     0     0     0     0     0     0     0     0     0     0\n",
      "      0     0     0     0     0     0     0     0     0     0     0     0\n",
      "      0     0     0     0     0     0     0     0     0     0     0     0\n",
      "      0     0     0     0     0     0     0     0     0     0     0     0\n",
      "      0     0     0     0     0     0     0     0     0     0     0     0\n",
      "      0     0     0     0     0     0     0     0     0     0     0     0\n",
      "      0     0     0     0     0     0     0     0     0     0]\n",
      " [  250  2248     5  3654     3   110     6     1  2249   171   783   366\n",
      "  33884     4  6411  2065   721     3   250     1     6 49001  1555  5811\n",
      "      2 33885  2104     3  5555     6  1917     5  7509   575   848  2248\n",
      "     54     1  3028   575     1   495 26303  6728     0     0     0     0\n",
      "      0     0     0     0     0     0     0     0     0     0     0     0\n",
      "      0     0     0     0     0     0     0     0     0     0     0     0\n",
      "      0     0     0     0     0     0     0     0     0     0     0     0\n",
      "      0     0     0     0     0     0     0     0     0     0     0     0\n",
      "      0     0     0     0     0     0     0     0     0     0     0     0\n",
      "      0     0     0     0     0     0     0     0     0     0     0     0\n",
      "      0     0     0     0     0     0     0     0     0     0     0     0\n",
      "      0     0     0     0     0     0     0     0     0     0     0     0\n",
      "      0     0     0     0     0     0     0     0     0     0     0     0\n",
      "      0     0     0     0     0     0     0     0     0     0     0     0\n",
      "      0     0     0     0     0     0     0     0     0     0     0     0\n",
      "      0     0     0     0     0     0     0     0     0     0     0     0\n",
      "      0     0     0     0     0     0     0     0     0     0     0     0\n",
      "      0     0     0     0     0     0     0     0     0     0     0     0\n",
      "      0     0     0     0     0     0     0     0     0     0     0     0\n",
      "      0     0     0     0     0     0     0     0     0     0     0     0\n",
      "      0     0     0     0     0     0     0     0     0     0     0     0\n",
      "      0     0     0     0     0     0     0     0     0     0     0     0\n",
      "      0     0     0     0     0     0     0     0     0     0     0     0\n",
      "      0     0     0     0     0     0     0     0     0     0     0     0\n",
      "      0     0     0     0     0     0     0     0     0     0     0     0\n",
      "      0     0     0     0     0     0     0     0     0     0     0     0\n",
      "      0     0     0     0     0     0     0     0     0     0     0     0\n",
      "      0     0     0     0     0     0     0     0     0     0     0     0\n",
      "      0     0     0     0     0     0     0     0     0     0     0     0\n",
      "      0     0     0     0     0     0     0     0     0     0     0     0\n",
      "      0     0     0     0     0     0     0     0     0     0     0     0\n",
      "      0     0     0     0     0     0     0     0     0     0     0     0\n",
      "      0     0     0     0     0     0     0     0     0     0]]\n"
     ]
    }
   ],
   "source": [
    "print(correct_sequences[:2]) "
   ]
  },
  {
   "cell_type": "code",
   "execution_count": 40,
   "metadata": {
    "execution": {
     "iopub.execute_input": "2025-05-13T05:41:38.670181Z",
     "iopub.status.busy": "2025-05-13T05:41:38.669720Z",
     "iopub.status.idle": "2025-05-13T05:41:38.675433Z",
     "shell.execute_reply": "2025-05-13T05:41:38.674586Z",
     "shell.execute_reply.started": "2025-05-13T05:41:38.670160Z"
    },
    "trusted": true
   },
   "outputs": [
    {
     "data": {
      "text/plain": [
       "100624"
      ]
     },
     "execution_count": 40,
     "metadata": {},
     "output_type": "execute_result"
    }
   ],
   "source": [
    "len(tokenizer.word_index)"
   ]
  },
  {
   "cell_type": "code",
   "execution_count": 41,
   "metadata": {
    "execution": {
     "iopub.execute_input": "2025-05-13T05:41:40.167776Z",
     "iopub.status.busy": "2025-05-13T05:41:40.167530Z",
     "iopub.status.idle": "2025-05-13T05:41:40.199306Z",
     "shell.execute_reply": "2025-05-13T05:41:40.198746Z",
     "shell.execute_reply.started": "2025-05-13T05:41:40.167760Z"
    },
    "trusted": true
   },
   "outputs": [],
   "source": [
    "# Split the data into training and validation sets\n",
    "X_train, X_val, y_train, y_val = train_test_split(\n",
    "    incorrect_sequences, correct_sequences, test_size=0.1, random_state=42)"
   ]
  },
  {
   "cell_type": "code",
   "execution_count": 42,
   "metadata": {
    "execution": {
     "iopub.execute_input": "2025-05-13T05:41:43.617573Z",
     "iopub.status.busy": "2025-05-13T05:41:43.617073Z",
     "iopub.status.idle": "2025-05-13T05:41:45.248756Z",
     "shell.execute_reply": "2025-05-13T05:41:45.248218Z",
     "shell.execute_reply.started": "2025-05-13T05:41:43.617543Z"
    },
    "trusted": true
   },
   "outputs": [
    {
     "data": {
      "text/html": [
       "<pre style=\"white-space:pre;overflow-x:auto;line-height:normal;font-family:Menlo,'DejaVu Sans Mono',consolas,'Courier New',monospace\"><span style=\"font-weight: bold\">Model: \"functional\"</span>\n",
       "</pre>\n"
      ],
      "text/plain": [
       "\u001b[1mModel: \"functional\"\u001b[0m\n"
      ]
     },
     "metadata": {},
     "output_type": "display_data"
    },
    {
     "data": {
      "text/html": [
       "<pre style=\"white-space:pre;overflow-x:auto;line-height:normal;font-family:Menlo,'DejaVu Sans Mono',consolas,'Courier New',monospace\">┏━━━━━━━━━━━━━━━━━━━━━━━━━━━━━━━━━┳━━━━━━━━━━━━━━━━━━━━━━━━┳━━━━━━━━━━━━━━━┓\n",
       "┃<span style=\"font-weight: bold\"> Layer (type)                    </span>┃<span style=\"font-weight: bold\"> Output Shape           </span>┃<span style=\"font-weight: bold\">       Param # </span>┃\n",
       "┡━━━━━━━━━━━━━━━━━━━━━━━━━━━━━━━━━╇━━━━━━━━━━━━━━━━━━━━━━━━╇━━━━━━━━━━━━━━━┩\n",
       "│ input_layer (<span style=\"color: #0087ff; text-decoration-color: #0087ff\">InputLayer</span>)        │ (<span style=\"color: #00d7ff; text-decoration-color: #00d7ff\">None</span>, <span style=\"color: #00af00; text-decoration-color: #00af00\">394</span>)            │             <span style=\"color: #00af00; text-decoration-color: #00af00\">0</span> │\n",
       "├─────────────────────────────────┼────────────────────────┼───────────────┤\n",
       "│ embedding (<span style=\"color: #0087ff; text-decoration-color: #0087ff\">Embedding</span>)           │ (<span style=\"color: #00d7ff; text-decoration-color: #00d7ff\">None</span>, <span style=\"color: #00af00; text-decoration-color: #00af00\">394</span>, <span style=\"color: #00af00; text-decoration-color: #00af00\">128</span>)       │    <span style=\"color: #00af00; text-decoration-color: #00af00\">12,880,000</span> │\n",
       "├─────────────────────────────────┼────────────────────────┼───────────────┤\n",
       "│ lstm (<span style=\"color: #0087ff; text-decoration-color: #0087ff\">LSTM</span>)                     │ (<span style=\"color: #00d7ff; text-decoration-color: #00d7ff\">None</span>, <span style=\"color: #00af00; text-decoration-color: #00af00\">394</span>, <span style=\"color: #00af00; text-decoration-color: #00af00\">256</span>)       │       <span style=\"color: #00af00; text-decoration-color: #00af00\">394,240</span> │\n",
       "├─────────────────────────────────┼────────────────────────┼───────────────┤\n",
       "│ dense (<span style=\"color: #0087ff; text-decoration-color: #0087ff\">Dense</span>)                   │ (<span style=\"color: #00d7ff; text-decoration-color: #00d7ff\">None</span>, <span style=\"color: #00af00; text-decoration-color: #00af00\">394</span>, <span style=\"color: #00af00; text-decoration-color: #00af00\">100625</span>)    │    <span style=\"color: #00af00; text-decoration-color: #00af00\">25,860,625</span> │\n",
       "└─────────────────────────────────┴────────────────────────┴───────────────┘\n",
       "</pre>\n"
      ],
      "text/plain": [
       "┏━━━━━━━━━━━━━━━━━━━━━━━━━━━━━━━━━┳━━━━━━━━━━━━━━━━━━━━━━━━┳━━━━━━━━━━━━━━━┓\n",
       "┃\u001b[1m \u001b[0m\u001b[1mLayer (type)                   \u001b[0m\u001b[1m \u001b[0m┃\u001b[1m \u001b[0m\u001b[1mOutput Shape          \u001b[0m\u001b[1m \u001b[0m┃\u001b[1m \u001b[0m\u001b[1m      Param #\u001b[0m\u001b[1m \u001b[0m┃\n",
       "┡━━━━━━━━━━━━━━━━━━━━━━━━━━━━━━━━━╇━━━━━━━━━━━━━━━━━━━━━━━━╇━━━━━━━━━━━━━━━┩\n",
       "│ input_layer (\u001b[38;5;33mInputLayer\u001b[0m)        │ (\u001b[38;5;45mNone\u001b[0m, \u001b[38;5;34m394\u001b[0m)            │             \u001b[38;5;34m0\u001b[0m │\n",
       "├─────────────────────────────────┼────────────────────────┼───────────────┤\n",
       "│ embedding (\u001b[38;5;33mEmbedding\u001b[0m)           │ (\u001b[38;5;45mNone\u001b[0m, \u001b[38;5;34m394\u001b[0m, \u001b[38;5;34m128\u001b[0m)       │    \u001b[38;5;34m12,880,000\u001b[0m │\n",
       "├─────────────────────────────────┼────────────────────────┼───────────────┤\n",
       "│ lstm (\u001b[38;5;33mLSTM\u001b[0m)                     │ (\u001b[38;5;45mNone\u001b[0m, \u001b[38;5;34m394\u001b[0m, \u001b[38;5;34m256\u001b[0m)       │       \u001b[38;5;34m394,240\u001b[0m │\n",
       "├─────────────────────────────────┼────────────────────────┼───────────────┤\n",
       "│ dense (\u001b[38;5;33mDense\u001b[0m)                   │ (\u001b[38;5;45mNone\u001b[0m, \u001b[38;5;34m394\u001b[0m, \u001b[38;5;34m100625\u001b[0m)    │    \u001b[38;5;34m25,860,625\u001b[0m │\n",
       "└─────────────────────────────────┴────────────────────────┴───────────────┘\n"
      ]
     },
     "metadata": {},
     "output_type": "display_data"
    },
    {
     "data": {
      "text/html": [
       "<pre style=\"white-space:pre;overflow-x:auto;line-height:normal;font-family:Menlo,'DejaVu Sans Mono',consolas,'Courier New',monospace\"><span style=\"font-weight: bold\"> Total params: </span><span style=\"color: #00af00; text-decoration-color: #00af00\">39,134,865</span> (149.29 MB)\n",
       "</pre>\n"
      ],
      "text/plain": [
       "\u001b[1m Total params: \u001b[0m\u001b[38;5;34m39,134,865\u001b[0m (149.29 MB)\n"
      ]
     },
     "metadata": {},
     "output_type": "display_data"
    },
    {
     "data": {
      "text/html": [
       "<pre style=\"white-space:pre;overflow-x:auto;line-height:normal;font-family:Menlo,'DejaVu Sans Mono',consolas,'Courier New',monospace\"><span style=\"font-weight: bold\"> Trainable params: </span><span style=\"color: #00af00; text-decoration-color: #00af00\">39,134,865</span> (149.29 MB)\n",
       "</pre>\n"
      ],
      "text/plain": [
       "\u001b[1m Trainable params: \u001b[0m\u001b[38;5;34m39,134,865\u001b[0m (149.29 MB)\n"
      ]
     },
     "metadata": {},
     "output_type": "display_data"
    },
    {
     "data": {
      "text/html": [
       "<pre style=\"white-space:pre;overflow-x:auto;line-height:normal;font-family:Menlo,'DejaVu Sans Mono',consolas,'Courier New',monospace\"><span style=\"font-weight: bold\"> Non-trainable params: </span><span style=\"color: #00af00; text-decoration-color: #00af00\">0</span> (0.00 B)\n",
       "</pre>\n"
      ],
      "text/plain": [
       "\u001b[1m Non-trainable params: \u001b[0m\u001b[38;5;34m0\u001b[0m (0.00 B)\n"
      ]
     },
     "metadata": {},
     "output_type": "display_data"
    }
   ],
   "source": [
    "vocab_size = len(tokenizer.word_index) + 1  # +1 for padding\n",
    "\n",
    "input_layer = Input(shape=(max_sequence_length,))\n",
    "embedding_layer = Embedding(input_dim=vocab_size, output_dim=128)(input_layer)\n",
    "lstm_layer = LSTM(256, return_sequences=True)(embedding_layer)    #encider\n",
    "output_layer = Dense(vocab_size, activation='softmax')(lstm_layer)     #decoder\n",
    "\n",
    "model = Model(input_layer, output_layer)\n",
    "model.compile(optimizer='adam', loss='sparse_categorical_crossentropy', metrics=['accuracy'])\n",
    "model.summary()"
   ]
  },
  {
   "cell_type": "code",
   "execution_count": null,
   "metadata": {
    "execution": {
     "iopub.execute_input": "2025-05-13T05:41:53.308059Z",
     "iopub.status.busy": "2025-05-13T05:41:53.307560Z",
     "iopub.status.idle": "2025-05-13T08:22:40.961414Z",
     "shell.execute_reply": "2025-05-13T08:22:40.960852Z",
     "shell.execute_reply.started": "2025-05-13T05:41:53.308036Z"
    },
    "trusted": true
   },
   "outputs": [
    {
     "name": "stdout",
     "output_type": "stream",
     "text": [
      "Epoch 1/16\n"
     ]
    },
    {
     "name": "stderr",
     "output_type": "stream",
     "text": [
      "I0000 00:00:1747114916.670859     121 cuda_dnn.cc:529] Loaded cuDNN version 90300\n"
     ]
    },
    {
     "name": "stdout",
     "output_type": "stream",
     "text": [
      "\u001b[1m1154/1154\u001b[0m \u001b[32m━━━━━━━━━━━━━━━━━━━━\u001b[0m\u001b[37m\u001b[0m \u001b[1m607s\u001b[0m 523ms/step - accuracy: 0.8683 - loss: 2.0095 - val_accuracy: 0.8758 - val_loss: 1.1755\n",
      "Epoch 2/16\n",
      "\u001b[1m1154/1154\u001b[0m \u001b[32m━━━━━━━━━━━━━━━━━━━━\u001b[0m\u001b[37m\u001b[0m \u001b[1m603s\u001b[0m 522ms/step - accuracy: 0.8762 - loss: 1.1502 - val_accuracy: 0.8761 - val_loss: 1.1686\n",
      "Epoch 3/16\n",
      "\u001b[1m1154/1154\u001b[0m \u001b[32m━━━━━━━━━━━━━━━━━━━━\u001b[0m\u001b[37m\u001b[0m \u001b[1m603s\u001b[0m 523ms/step - accuracy: 0.8763 - loss: 1.1311 - val_accuracy: 0.8763 - val_loss: 1.1678\n",
      "Epoch 4/16\n",
      "\u001b[1m1154/1154\u001b[0m \u001b[32m━━━━━━━━━━━━━━━━━━━━\u001b[0m\u001b[37m\u001b[0m \u001b[1m603s\u001b[0m 522ms/step - accuracy: 0.8765 - loss: 1.1162 - val_accuracy: 0.8764 - val_loss: 1.1755\n",
      "Epoch 5/16\n",
      "\u001b[1m1154/1154\u001b[0m \u001b[32m━━━━━━━━━━━━━━━━━━━━\u001b[0m\u001b[37m\u001b[0m \u001b[1m603s\u001b[0m 522ms/step - accuracy: 0.8770 - loss: 1.1001 - val_accuracy: 0.8753 - val_loss: 1.1775\n",
      "Epoch 6/16\n",
      "\u001b[1m1154/1154\u001b[0m \u001b[32m━━━━━━━━━━━━━━━━━━━━\u001b[0m\u001b[37m\u001b[0m \u001b[1m602s\u001b[0m 522ms/step - accuracy: 0.8775 - loss: 1.0806 - val_accuracy: 0.8761 - val_loss: 1.1790\n",
      "Epoch 7/16\n",
      "\u001b[1m1154/1154\u001b[0m \u001b[32m━━━━━━━━━━━━━━━━━━━━\u001b[0m\u001b[37m\u001b[0m \u001b[1m603s\u001b[0m 522ms/step - accuracy: 0.8779 - loss: 1.0621 - val_accuracy: 0.8762 - val_loss: 1.1822\n",
      "Epoch 8/16\n",
      "\u001b[1m1154/1154\u001b[0m \u001b[32m━━━━━━━━━━━━━━━━━━━━\u001b[0m\u001b[37m\u001b[0m \u001b[1m603s\u001b[0m 522ms/step - accuracy: 0.8777 - loss: 1.0483 - val_accuracy: 0.8759 - val_loss: 1.1919\n",
      "Epoch 9/16\n",
      "\u001b[1m1154/1154\u001b[0m \u001b[32m━━━━━━━━━━━━━━━━━━━━\u001b[0m\u001b[37m\u001b[0m \u001b[1m603s\u001b[0m 522ms/step - accuracy: 0.8779 - loss: 1.0285 - val_accuracy: 0.8755 - val_loss: 1.2000\n",
      "Epoch 10/16\n",
      "\u001b[1m1154/1154\u001b[0m \u001b[32m━━━━━━━━━━━━━━━━━━━━\u001b[0m\u001b[37m\u001b[0m \u001b[1m602s\u001b[0m 522ms/step - accuracy: 0.8783 - loss: 1.0049 - val_accuracy: 0.8747 - val_loss: 1.2119\n",
      "Epoch 11/16\n",
      "\u001b[1m1154/1154\u001b[0m \u001b[32m━━━━━━━━━━━━━━━━━━━━\u001b[0m\u001b[37m\u001b[0m \u001b[1m603s\u001b[0m 522ms/step - accuracy: 0.8779 - loss: 0.9858 - val_accuracy: 0.8756 - val_loss: 1.2238\n",
      "Epoch 12/16\n",
      "\u001b[1m1154/1154\u001b[0m \u001b[32m━━━━━━━━━━━━━━━━━━━━\u001b[0m\u001b[37m\u001b[0m \u001b[1m603s\u001b[0m 523ms/step - accuracy: 0.8780 - loss: 0.9627 - val_accuracy: 0.8751 - val_loss: 1.2353\n",
      "Epoch 13/16\n",
      "\u001b[1m1154/1154\u001b[0m \u001b[32m━━━━━━━━━━━━━━━━━━━━\u001b[0m\u001b[37m\u001b[0m \u001b[1m604s\u001b[0m 523ms/step - accuracy: 0.8788 - loss: 0.9333 - val_accuracy: 0.8744 - val_loss: 1.2463\n",
      "Epoch 14/16\n",
      "\u001b[1m1154/1154\u001b[0m \u001b[32m━━━━━━━━━━━━━━━━━━━━\u001b[0m\u001b[37m\u001b[0m \u001b[1m602s\u001b[0m 522ms/step - accuracy: 0.8789 - loss: 0.9101 - val_accuracy: 0.8743 - val_loss: 1.2644\n",
      "Epoch 15/16\n",
      "\u001b[1m1154/1154\u001b[0m \u001b[32m━━━━━━━━━━━━━━━━━━━━\u001b[0m\u001b[37m\u001b[0m \u001b[1m602s\u001b[0m 522ms/step - accuracy: 0.8803 - loss: 0.8828 - val_accuracy: 0.8743 - val_loss: 1.2816\n",
      "Epoch 16/16\n",
      "\u001b[1m1154/1154\u001b[0m \u001b[32m━━━━━━━━━━━━━━━━━━━━\u001b[0m\u001b[37m\u001b[0m \u001b[1m602s\u001b[0m 522ms/step - accuracy: 0.8819 - loss: 0.8584 - val_accuracy: 0.8740 - val_loss: 1.2931\n"
     ]
    },
    {
     "data": {
      "text/plain": [
       "<keras.src.callbacks.history.History at 0x7cb313b41610>"
      ]
     },
     "execution_count": 39,
     "metadata": {},
     "output_type": "execute_result"
    }
   ],
   "source": [
    "# Train the model\n",
    "model.fit(X_train, y_train, validation_data=(X_val, y_val), batch_size=16, epochs=16)"
   ]
  },
  {
   "cell_type": "code",
   "execution_count": null,
   "metadata": {
    "execution": {
     "iopub.execute_input": "2025-05-13T08:28:24.704175Z",
     "iopub.status.busy": "2025-05-13T08:28:24.703918Z",
     "iopub.status.idle": "2025-05-13T08:28:25.862213Z",
     "shell.execute_reply": "2025-05-13T08:28:25.861633Z",
     "shell.execute_reply.started": "2025-05-13T08:28:24.704159Z"
    },
    "trusted": true
   },
   "outputs": [],
   "source": [
    "# Save your model\n",
    "model.save('/kaggle/working/arabic_spelling_correction_model.h5')"
   ]
  },
  {
   "cell_type": "code",
   "execution_count": null,
   "metadata": {
    "execution": {
     "iopub.execute_input": "2025-05-13T08:28:50.362855Z",
     "iopub.status.busy": "2025-05-13T08:28:50.362564Z",
     "iopub.status.idle": "2025-05-13T08:28:50.367968Z",
     "shell.execute_reply": "2025-05-13T08:28:50.367359Z",
     "shell.execute_reply.started": "2025-05-13T08:28:50.362833Z"
    },
    "trusted": true
   },
   "outputs": [
    {
     "data": {
      "text/plain": [
       "['arabic_spelling_correction_model.h5', '.virtual_documents']"
      ]
     },
     "execution_count": 41,
     "metadata": {},
     "output_type": "execute_result"
    }
   ],
   "source": [
    "import os\n",
    "os.listdir('/kaggle/working/')"
   ]
  },
  {
   "cell_type": "code",
   "execution_count": null,
   "metadata": {
    "execution": {
     "iopub.execute_input": "2025-05-13T08:31:46.931345Z",
     "iopub.status.busy": "2025-05-13T08:31:46.930763Z",
     "iopub.status.idle": "2025-05-13T08:32:06.522969Z",
     "shell.execute_reply": "2025-05-13T08:32:06.522163Z",
     "shell.execute_reply.started": "2025-05-13T08:31:46.931323Z"
    },
    "trusted": true
   },
   "outputs": [
    {
     "data": {
      "text/plain": [
       "'/kaggle/working/arabic_spelling_correction_model.zip'"
      ]
     },
     "execution_count": 43,
     "metadata": {},
     "output_type": "execute_result"
    }
   ],
   "source": [
    "import shutil\n",
    "\n",
    "# Create a zip file of the saved model\n",
    "shutil.make_archive('/kaggle/working/arabic_spelling_correction_model', 'zip', '/kaggle/working', 'arabic_spelling_correction_model.h5')"
   ]
  },
  {
   "cell_type": "code",
   "execution_count": null,
   "metadata": {},
   "outputs": [],
   "source": [
    "model_path = \"./arabic_spelling_correction_model.h5\"\n",
    "model = tf.keras.models.load_model(model_path)\n",
    "model.summary()"
   ]
  },
  {
   "cell_type": "code",
   "execution_count": null,
   "metadata": {
    "trusted": true
   },
   "outputs": [],
   "source": [
    "# Tokenize the input text\n",
    "input_text = str(input())\n",
    "input_sequence = tokenizer.texts_to_sequences([input_text])\n",
    "\n",
    "# Pad the input sequence\n",
    "padded_input_sequence = pad_sequences(input_sequence, maxlen=max_sequence_length, padding='post')\n",
    "\n",
    "# Predict the corrected output\n",
    "output_sequence = model.predict(padded_input_sequence)\n",
    "corrected_output_sequence = np.argmax(output_sequence, axis=-1)\n",
    "\n",
    "# Convert the corrected output sequence back to text\n",
    "corrected_output_text = tokenizer.sequences_to_texts(corrected_output_sequence)\n",
    "\n",
    "print(\"Corrected Output:\", corrected_output_text)"
   ]
  },
  {
   "cell_type": "code",
   "execution_count": 57,
   "metadata": {
    "execution": {
     "iopub.execute_input": "2025-05-12T22:08:21.394409Z",
     "iopub.status.busy": "2025-05-12T22:08:21.393941Z",
     "iopub.status.idle": "2025-05-12T22:08:21.579080Z",
     "shell.execute_reply": "2025-05-12T22:08:21.578508Z",
     "shell.execute_reply.started": "2025-05-12T22:08:21.394388Z"
    },
    "trusted": true
   },
   "outputs": [],
   "source": [
    "from tensorflow.keras.preprocessing.text import Tokenizer\n",
    "import pickle\n",
    "# Assuming you already have a tokenizer object named 'tokenizer'\n",
    "\n",
    "# Save the tokenizer\n",
    "tokenizer_path = 'tokenizer.pkl'\n",
    "with open(tokenizer_path, 'wb') as f:\n",
    "    pickle.dump(tokenizer, f)\n",
    "\n",
    "# Load the tokenizer\n",
    "tokenizer_path = 'tokenizer.pkl'\n",
    "with open(tokenizer_path, 'rb') as f:\n",
    "    tokenizer = pickle.load(f)"
   ]
  },
  {
   "cell_type": "code",
   "execution_count": 58,
   "metadata": {
    "execution": {
     "iopub.execute_input": "2025-05-12T22:08:31.451718Z",
     "iopub.status.busy": "2025-05-12T22:08:31.451475Z",
     "iopub.status.idle": "2025-05-12T22:08:31.456125Z",
     "shell.execute_reply": "2025-05-12T22:08:31.455395Z",
     "shell.execute_reply.started": "2025-05-12T22:08:31.451701Z"
    },
    "trusted": true
   },
   "outputs": [],
   "source": [
    "def predict(input_text):\n",
    "    input_sequence = tokenizer.texts_to_sequences([input_text])\n",
    "\n",
    "    # Pad the input sequence\n",
    "    padded_input_sequence = pad_sequences(input_sequence, maxlen=max_sequence_length, padding='post')\n",
    "\n",
    "    # Predict the corrected output\n",
    "    output_sequence = model.predict(padded_input_sequence)\n",
    "    corrected_output_sequence = np.argmax(output_sequence, axis=-1)\n",
    "\n",
    "    # Convert the corrected output sequence back to text\n",
    "    corrected_output_text = tokenizer.sequences_to_texts(corrected_output_sequence)\n",
    "\n",
    "    return corrected_output_text"
   ]
  },
  {
   "cell_type": "code",
   "execution_count": null,
   "metadata": {
    "execution": {
     "iopub.execute_input": "2025-05-12T22:13:48.269876Z",
     "iopub.status.busy": "2025-05-12T22:13:48.269570Z",
     "iopub.status.idle": "2025-05-12T22:13:50.072316Z",
     "shell.execute_reply": "2025-05-12T22:13:50.071528Z",
     "shell.execute_reply.started": "2025-05-12T22:13:48.269855Z"
    },
    "trusted": true
   },
   "outputs": [],
   "source": [
    "arabic_sentences = [\n",
    "    \"الحياه ف المدرسه ممتع\",\n",
    "    \"ذهبت الئ المدرسه مبكن\",\n",
    "    \"الولد يلعب في الشارعون\",\n",
    "    \"اسمي يحي وانا اسكن في القاهر\",\n",
    "    \"الطقسجميلو الشمستسطع\",\n",
    "    \"رحه ممتع لمدينه جميله\",\n",
    "]\n",
    "sentence_length=len (arabic_sentences)\n",
    "prediction=[]\n",
    "for i in range(sentence_length):\n",
    "    corrected_text = predict(arabic_sentences[i])\n",
    "    print(\"Corrected text:\", corrected_text)\n",
    "    prediction.append(corrected_text)"
   ]
  },
  {
   "cell_type": "code",
   "execution_count": null,
   "metadata": {
    "execution": {
     "iopub.execute_input": "2025-05-12T22:16:26.751271Z",
     "iopub.status.busy": "2025-05-12T22:16:26.750576Z",
     "iopub.status.idle": "2025-05-12T22:16:28.830270Z",
     "shell.execute_reply": "2025-05-12T22:16:28.829686Z",
     "shell.execute_reply.started": "2025-05-12T22:16:26.751248Z"
    },
    "trusted": true
   },
   "outputs": [],
   "source": [
    "sentences = [\n",
    "    \"اكلت طعما لذيذن في المطعم\",\n",
    "    \"هزا الكتاب ممتع و مفيد\",\n",
    "    \"الطلاب ذاهبون الي الجامعا\",\n",
    "    \"احب مشاهدت الافلم في السينما\",\n",
    "    \"العصافير تغرد علئ الشجره كل صباحن\",\n",
    "    \"انه يكتب القصه جيدا و باسلوب جمل\",\n",
    "    \"قرات مقال عن التكنلوجيا الحديثه\",\n",
    "]\n",
    "\n",
    "prediction = []\n",
    "for i in range(len(sentences)):\n",
    "    corrected_text = predict(sentences[i])\n",
    "    print(\"Corrected text:\", corrected_text)\n",
    "    prediction.append(corrected_text)\n"
   ]
  },
  {
   "cell_type": "code",
   "execution_count": 74,
   "metadata": {
    "execution": {
     "iopub.execute_input": "2025-05-12T22:25:06.766096Z",
     "iopub.status.busy": "2025-05-12T22:25:06.765817Z",
     "iopub.status.idle": "2025-05-12T22:25:07.068947Z",
     "shell.execute_reply": "2025-05-12T22:25:07.068314Z",
     "shell.execute_reply.started": "2025-05-12T22:25:06.766075Z"
    },
    "trusted": true
   },
   "outputs": [
    {
     "name": "stdout",
     "output_type": "stream",
     "text": [
      "\u001b[1m1/1\u001b[0m \u001b[32m━━━━━━━━━━━━━━━━━━━━\u001b[0m\u001b[37m\u001b[0m \u001b[1m0s\u001b[0m 20ms/step\n",
      "Corrected text: ['كتب']\n"
     ]
    }
   ],
   "source": [
    "sentences = [\n",
    "    \"لأنة كتب الحملة  \"\n",
    "]\n",
    "\n",
    "prediction = []\n",
    "for i in range(len(sentences)):\n",
    "    corrected_text = predict(sentences[i])\n",
    "    print(\"Corrected text:\", corrected_text)\n",
    "    prediction.append(corrected_text)\n"
   ]
  },
  {
   "cell_type": "code",
   "execution_count": null,
   "metadata": {
    "trusted": true
   },
   "outputs": [],
   "source": [
    "import sys\n",
    "from PySide6.QtWidgets import (\n",
    "    QApplication,\n",
    "    QMainWindow,\n",
    "    QWidget,\n",
    "    QVBoxLayout,\n",
    "    QTextEdit,\n",
    "    QLabel,\n",
    "    QStatusBar,\n",
    ")\n",
    "from PySide6.QtCore import Qt, QTimer\n",
    "from PySide6.QtGui import QFont, QTextCursor\n",
    "\n",
    "\n",
    "class ArabicAutoCorrectApp(QMainWindow):\n",
    "    def __init__(self):\n",
    "        super().__init__()\n",
    "        # GUI\n",
    "        self.setWindowTitle(\"Arabic Auto-Correction\")\n",
    "        self.setGeometry(100, 100, 800, 600)\n",
    "\n",
    "        self.timer = QTimer()\n",
    "        self.timer.setSingleShot(True)\n",
    "        self.timer.timeout.connect(self.process_text)\n",
    "\n",
    "        central_widget = QWidget()\n",
    "        self.setCentralWidget(central_widget)\n",
    "        layout = QVBoxLayout(central_widget)\n",
    "        layout.setContentsMargins(20, 20, 20, 20)\n",
    "        layout.setSpacing(20)\n",
    "\n",
    "        title_label = QLabel(\"Arabic Text Auto-Correction\")\n",
    "        title_label.setFont(QFont(\"Helvetica\", 24, QFont.Weight.Bold))\n",
    "        title_label.setAlignment(Qt.AlignCenter)\n",
    "        layout.addWidget(title_label)\n",
    "\n",
    "        self.text_edit = QTextEdit()\n",
    "        self.text_edit.setFont(QFont(\"Arial\", 14))\n",
    "        self.text_edit.setAlignment(Qt.AlignRight)\n",
    "        self.text_edit.setLayoutDirection(Qt.RightToLeft)\n",
    "        self.text_edit.textChanged.connect(self.on_text_change)\n",
    "        layout.addWidget(self.text_edit)\n",
    "\n",
    "        self.status_bar = QStatusBar()\n",
    "        self.setStatusBar(self.status_bar)\n",
    "        self.status_bar.showMessage(\"Ready\")\n",
    "        self.text_edit.setFocus()\n",
    "        #\n",
    "\n",
    "        self.last_processed_text = \"\"\n",
    "\n",
    "    def on_text_change(self):\n",
    "        self.status_bar.showMessage(\"Processing...\")\n",
    "        self.timer.start(1000)\n",
    "\n",
    "    def process_text(self):\n",
    "        current_text = self.text_edit.toPlainText()\n",
    "\n",
    "        if current_text != self.last_processed_text:\n",
    "            corrected_text = predict(current_text)\n",
    "\n",
    "            if corrected_text != current_text and corrected_text != \"\":\n",
    "                self.text_edit.setPlainText(corrected_text)\n",
    "\n",
    "                cursor = self.text_edit.textCursor()\n",
    "                cursor.movePosition(QTextCursor.MoveOperation.End)\n",
    "                self.text_edit.setTextCursor(cursor)\n",
    "\n",
    "                self.text_edit.setFocus()\n",
    "\n",
    "            if (corrected_text != \"\"):\n",
    "                self.last_processed_text = corrected_text\n",
    "\n",
    "        self.status_bar.showMessage(\"Ready\")\n",
    "\n",
    "\n",
    "def main():\n",
    "    if QApplication.instance() is None:\n",
    "        app = QApplication(sys.argv)\n",
    "    else:\n",
    "        app = QApplication.instance()\n",
    "\n",
    "    app.setStyle(\"Fusion\")\n",
    "    window = ArabicAutoCorrectApp()\n",
    "    window.show()\n",
    "    sys.exit(app.exec())"
   ]
  },
  {
   "cell_type": "code",
   "execution_count": null,
   "metadata": {},
   "outputs": [],
   "source": [
    "main()"
   ]
  }
 ],
 "metadata": {
  "kaggle": {
   "accelerator": "gpu",
   "dataSources": [
    {
     "datasetId": 4798275,
     "sourceId": 8120575,
     "sourceType": "datasetVersion"
    }
   ],
   "dockerImageVersionId": 31041,
   "isGpuEnabled": true,
   "isInternetEnabled": true,
   "language": "python",
   "sourceType": "notebook"
  },
  "kernelspec": {
   "display_name": "Python 3",
   "language": "python",
   "name": "python3"
  },
  "language_info": {
   "codemirror_mode": {
    "name": "ipython",
    "version": 3
   },
   "file_extension": ".py",
   "mimetype": "text/x-python",
   "name": "python",
   "nbconvert_exporter": "python",
   "pygments_lexer": "ipython3",
   "version": "3.10.11"
  }
 },
 "nbformat": 4,
 "nbformat_minor": 4
}
